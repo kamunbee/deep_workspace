{
 "cells": [
  {
   "cell_type": "code",
   "execution_count": 1,
   "metadata": {},
   "outputs": [],
   "source": [
    "import numpy as np"
   ]
  },
  {
   "cell_type": "code",
   "execution_count": 2,
   "metadata": {},
   "outputs": [],
   "source": [
    "# 데이터 준비\n",
    "x= [2,4,6,8]\n",
    "y = [81,93,91,97]"
   ]
  },
  {
   "cell_type": "code",
   "execution_count": 3,
   "metadata": {},
   "outputs": [
    {
     "name": "stdout",
     "output_type": "stream",
     "text": [
      "x의평균 : 5.0\n",
      "y의평균 : 90.5\n"
     ]
    }
   ],
   "source": [
    "# x의 평균을 구한다.\n",
    "mx = np.mean(x)\n",
    "\n",
    "# y의 평균을 구한다.\n",
    "my = np.mean(y)\n",
    "\n",
    "print(f'x의평균 : {mx}')\n",
    "print(f'y의평균 : {my}')"
   ]
  },
  {
   "cell_type": "code",
   "execution_count": 4,
   "metadata": {},
   "outputs": [
    {
     "data": {
      "text/plain": [
       "20.0"
      ]
     },
     "execution_count": 4,
     "metadata": {},
     "output_type": "execute_result"
    }
   ],
   "source": [
    "# 분모를 구한다.  각 x 값을 평균 x값으로 빼고 제곱한 다음 총 합을 구한다.\n",
    "# ((x[0] - xm) ** 2) + ((x[1] - xm) ** 2) .....\n",
    "\n",
    "\n",
    "a2= 0\n",
    "\n",
    "for v1 in x:\n",
    "    a1 = (v1 -mx)**2\n",
    "#     print( a1 )\n",
    "    a2 = a2+ a1\n",
    "    \n",
    "a2"
   ]
  },
  {
   "cell_type": "code",
   "execution_count": 5,
   "metadata": {},
   "outputs": [
    {
     "data": {
      "text/plain": [
       "20.0"
      ]
     },
     "execution_count": 5,
     "metadata": {},
     "output_type": "execute_result"
    }
   ],
   "source": [
    "a1 = [(i-mx)**2 for i in x]\n",
    "# print(a1)\n",
    "a2 = sum(a1)\n",
    "a2"
   ]
  },
  {
   "cell_type": "code",
   "execution_count": 6,
   "metadata": {},
   "outputs": [],
   "source": [
    "# 분자를 구한다.\n",
    "# x: 입력데이터\n",
    "# mx : 입력데이터의 평균\n",
    "# y : 결과 데이터\n",
    "# my : 결과데이터의 평균\n",
    "def top(x, mx, y, my) :\n",
    "    v2 = 0\n",
    "    \n",
    "    for i in range(len(x)):\n",
    "        v1 = (x[i]- mx) * (y[i] - my)\n",
    "#         print(v1)\n",
    "        v2 = v2+ v1\n",
    "    \n",
    "    return v2"
   ]
  },
  {
   "cell_type": "code",
   "execution_count": 7,
   "metadata": {},
   "outputs": [],
   "source": [
    "a20 = top(x,mx,y,my)"
   ]
  },
  {
   "cell_type": "code",
   "execution_count": 8,
   "metadata": {},
   "outputs": [
    {
     "name": "stdout",
     "output_type": "stream",
     "text": [
      "분모 : 20.0\n",
      "분자 : 46.0\n"
     ]
    }
   ],
   "source": [
    "print(f'분모 : {a2}')\n",
    "print(f'분자 : {a20}')\n"
   ]
  },
  {
   "cell_type": "code",
   "execution_count": 9,
   "metadata": {},
   "outputs": [],
   "source": [
    "# 기울기와 y 절편을 구하낟.\n",
    "a = a2 / a20\n",
    "b = my - (mx * a)"
   ]
  },
  {
   "cell_type": "code",
   "execution_count": 10,
   "metadata": {},
   "outputs": [
    {
     "name": "stdout",
     "output_type": "stream",
     "text": [
      "기울기 : 0.43478260869565216\n",
      "y절편 : 88.32608695652173\n"
     ]
    }
   ],
   "source": [
    "# 출력으로 확인한다.\n",
    "print(f'기울기 : {a}')\n",
    "print(f'y절편 : {b}')"
   ]
  },
  {
   "cell_type": "markdown",
   "metadata": {},
   "source": [
    "## 공식 정리하면서 만들기"
   ]
  },
  {
   "cell_type": "code",
   "execution_count": 11,
   "metadata": {},
   "outputs": [],
   "source": [
    "# 학습할 데이터\n",
    "공부한시간 = [2,4,6,8]\n",
    "성적 = [81,93,91,97]"
   ]
  },
  {
   "cell_type": "markdown",
   "metadata": {},
   "source": [
    "### 평균 제곱법 계산 공식\n",
    "\n",
    "<img src='image/1.png'/>"
   ]
  },
  {
   "cell_type": "code",
   "execution_count": 12,
   "metadata": {},
   "outputs": [],
   "source": [
    "# x와 y의 평균을 구하는 함수\n",
    "def getMean(x, y) :\n",
    "    a1 = np.mean(x)\n",
    "    a2 = np.mean(y)\n",
    "    \n",
    "    return a1, a2"
   ]
  },
  {
   "cell_type": "code",
   "execution_count": 13,
   "metadata": {},
   "outputs": [],
   "source": [
    "# 분자를 구하는 함수\n",
    "def getDividend(x,y,x평균,y평균):\n",
    "    \n",
    "    총합 = 0\n",
    "    \n",
    "    for idx in range(len(x)):\n",
    "        a1 = (x[idx] - x평균) * (y[idx] - y평균)\n",
    "        총합 = 총합 + a1\n",
    "        \n",
    "    return 총합"
   ]
  },
  {
   "cell_type": "code",
   "execution_count": 15,
   "metadata": {},
   "outputs": [],
   "source": [
    "# 분모를 구하는 함수\n",
    "def getDevider(x, x평균):\n",
    "    a1 = [(i - x평균) ** 2 for i in x]\n",
    "    return sum(a1)"
   ]
  },
  {
   "cell_type": "code",
   "execution_count": 17,
   "metadata": {},
   "outputs": [],
   "source": [
    "# 기울기와 절편을 구하는 함수\n",
    "def getAB(분자, 분모, x평균, y평균):\n",
    "    a  = 분자 / 분모\n",
    "    b  = y평균 - (x평균 * a)\n",
    "    \n",
    "    return a,b"
   ]
  },
  {
   "cell_type": "code",
   "execution_count": 18,
   "metadata": {},
   "outputs": [
    {
     "name": "stdout",
     "output_type": "stream",
     "text": [
      "2.3\n",
      "79.0\n"
     ]
    }
   ],
   "source": [
    "공부시간평균, 성적평균 = getMean(공부한시간, 성적)\n",
    "# print(공부시간평균)\n",
    "# print(성적평균)\n",
    "\n",
    "# 분자를 구한다.\n",
    "분자 = getDividend(공부한시간, 성적, 공부시간평균, 성적평균)\n",
    "# print(분자)\n",
    "\n",
    "# 분모를 구한다.\n",
    "분모 = getDevider(공부한시간, 공부시간평균)\n",
    "# print(분모)\n",
    "\n",
    "#기울기와 절편을 구한다.\n",
    "기울기, 절편 = getAB(분자, 분모, 공부시간평균, 성적평균)\n",
    "print(기울기)\n",
    "print(절편)"
   ]
  },
  {
   "cell_type": "code",
   "execution_count": 19,
   "metadata": {},
   "outputs": [
    {
     "name": "stdout",
     "output_type": "stream",
     "text": [
      "83.6\n",
      "88.2\n",
      "92.8\n",
      "97.4\n"
     ]
    }
   ],
   "source": [
    "for v1 in 공부한시간 : \n",
    "    예측성적 = (기울기 * v1) + 절편\n",
    "    print(예측성적)"
   ]
  },
  {
   "cell_type": "code",
   "execution_count": 20,
   "metadata": {},
   "outputs": [
    {
     "data": {
      "text/plain": [
       "[81, 93, 91, 97]"
      ]
     },
     "execution_count": 20,
     "metadata": {},
     "output_type": "execute_result"
    }
   ],
   "source": [
    "성적"
   ]
  },
  {
   "cell_type": "code",
   "execution_count": 22,
   "metadata": {},
   "outputs": [
    {
     "data": {
      "text/plain": [
       "102.0"
      ]
     },
     "execution_count": 22,
     "metadata": {},
     "output_type": "execute_result"
    }
   ],
   "source": [
    "예측성적 = 기울기 * 10 + 절편\n",
    "예측성적\n",
    "# 10시간 공부하면 102 점이 나올거라고 예측"
   ]
  },
  {
   "cell_type": "code",
   "execution_count": null,
   "metadata": {},
   "outputs": [],
   "source": []
  }
 ],
 "metadata": {
  "kernelspec": {
   "display_name": "Python 3",
   "language": "python",
   "name": "python3"
  },
  "language_info": {
   "codemirror_mode": {
    "name": "ipython",
    "version": 3
   },
   "file_extension": ".py",
   "mimetype": "text/x-python",
   "name": "python",
   "nbconvert_exporter": "python",
   "pygments_lexer": "ipython3",
   "version": "3.7.6"
  }
 },
 "nbformat": 4,
 "nbformat_minor": 4
}
